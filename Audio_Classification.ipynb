{
  "cells": [
    {
      "cell_type": "code",
      "execution_count": null,
      "id": "sXA_Dua05TX4",
      "metadata": {
        "id": "sXA_Dua05TX4"
      },
      "outputs": [],
      "source": [
        "# Import necessary libraries\n",
        "import matplotlib.pyplot as plt\n",
        "%matplotlib inline\n",
        "import IPython.display as ipd\n",
        "import librosa\n",
        "import librosa.display\n",
        "from scipy.io import wavfile as wav\n",
        "import pandas as pd\n",
        "import os\n",
        "import numpy as np\n",
        "from tqdm import tqdm"
      ]
    },
    {
      "cell_type": "code",
      "execution_count": null,
      "id": "HkKJlwCW5Zju",
      "metadata": {
        "id": "HkKJlwCW5Zju"
      },
      "outputs": [],
      "source": [
        "# Display directory contents\n",
        "!dir"
      ]
    },
    {
      "cell_type": "markdown",
      "id": "4dbefeec",
      "metadata": {},
      "source": [
        "EDA"
      ]
    },
    {
      "cell_type": "code",
      "execution_count": null,
      "id": "K0uJaB-r5ckI",
      "metadata": {
        "id": "K0uJaB-r5ckI"
      },
      "outputs": [],
      "source": [
        "# Load and display audio waveforms for the first file\n",
        "filename='UrbanSound8K/dog_bark.wav'\n",
        "plt.figure(figsize=(14,5))\n",
        "data,sample_rate = librosa.load(filename)\n",
        "librosa.display.waveplot(data, sr=sample_rate)\n",
        "ipd.Audio(filename)"
      ]
    },
    {
      "cell_type": "code",
      "execution_count": null,
      "id": "AZaIly_A5gKj",
      "metadata": {
        "id": "AZaIly_A5gKj"
      },
      "outputs": [],
      "source": [
        "# Load and display audio waveforms for the second file\n",
        "filename='UrbanSound8K/100263-2-0-3.wav'\n",
        "plt.figure(figsize=(14,5))\n",
        "data,sample_rate = librosa.load(filename)\n",
        "librosa.display.waveplot(data, sr=sample_rate)\n",
        "ipd.Audio(filename)"
      ]
    },
    {
      "cell_type": "code",
      "execution_count": null,
      "id": "W5jKmHRb5igO",
      "metadata": {
        "id": "W5jKmHRb5igO"
      },
      "outputs": [],
      "source": [
        "# Sample rate details\n",
        "sample_rate\n",
        "wave_sample_rate, wave_audio = wav.read(filename)\n",
        "wave_sample_rate"
      ]
    },
    {
      "cell_type": "code",
      "execution_count": null,
      "id": "WhajvT5T5mqy",
      "metadata": {
        "id": "WhajvT5T5mqy"
      },
      "outputs": [],
      "source": [
        "# Display audio data details\n",
        "wave_audio\n",
        "data"
      ]
    },
    {
      "cell_type": "code",
      "execution_count": null,
      "id": "mx5-qKUi5p-M",
      "metadata": {
        "id": "mx5-qKUi5p-M"
      },
      "outputs": [],
      "source": [
        "# Read metadata\n",
        "metadata = pd.read_csv('UrbanSound8K/metadata/UrbanSound8K.csv')\n",
        "metadata.head(10)"
      ]
    },
    {
      "cell_type": "code",
      "execution_count": null,
      "id": "lcZcVRdu5seE",
      "metadata": {
        "id": "lcZcVRdu5seE"
      },
      "outputs": [],
      "source": [
        "# Check whether the dataset is imbalanced\n",
        "metadata['class'].value_counts()"
      ]
    },
    {
      "cell_type": "markdown",
      "id": "cardiovascular-study",
      "metadata": {
        "id": "cardiovascular-study"
      },
      "source": [
        "#### Audio Classification Data Preprocessing"
      ]
    },
    {
      "cell_type": "code",
      "execution_count": null,
      "id": "5VCBB6td5u64",
      "metadata": {
        "id": "5VCBB6td5u64"
      },
      "outputs": [],
      "source": [
        "# Read and plot a sample audio file using librosa\n",
        "audio_file_path = 'UrbanSound8K/100263-2-0-3.wav'\n",
        "librosa_audio_data, librosa_sample_rate = librosa.load(audio_file_path)\n",
        "\n",
        "plt.figure(figsize=(12, 4))\n",
        "plt.plot(librosa_audio_data)"
      ]
    },
    {
      "cell_type": "code",
      "execution_count": null,
      "id": "l9KAlZwz51NW",
      "metadata": {
        "id": "l9KAlZwz51NW"
      },
      "outputs": [],
      "source": [
        "# Read and plot audio with scipy\n",
        "wave_sample_rate, wave_audio = wav.read(audio_file_path)\n",
        "\n",
        "plt.figure(figsize=(12, 4))\n",
        "plt.plot(wave_audio)"
      ]
    },
    {
      "cell_type": "markdown",
      "id": "comparative-ontario",
      "metadata": {
        "id": "comparative-ontario"
      },
      "source": [
        "#### Observation\n",
        "Here Librosa converts the signal to mono, meaning the channel will alays be 1"
      ]
    },
    {
      "cell_type": "markdown",
      "id": "applicable-priest",
      "metadata": {
        "id": "applicable-priest"
      },
      "source": [
        "### Extract Features\n",
        "Here we will be using Mel-Frequency Cepstral Coefficients(MFCC) from the audio\n",
        "samples.\n",
        "The MFCC summarises the frequency distribution across the window size, so it is possible to analyse both the frequency and time characteristics of the sound. These audio representations will allow us to identify features for classification."
      ]
    },
    {
      "cell_type": "code",
      "execution_count": null,
      "id": "chinese-north",
      "metadata": {
        "id": "chinese-north",
        "outputId": "bc1df36f-9375-42e5-8602-9aa49f83d115"
      },
      "outputs": [
        {
          "name": "stdout",
          "output_type": "stream",
          "text": [
            "(40, 173)\n"
          ]
        }
      ],
      "source": [
        "mfccs = librosa.feature.mfcc(y=librosa_audio_data, sr=librosa_sample_rate, n_mfcc=40)\n",
        "print(mfccs.shape)"
      ]
    },
    {
      "cell_type": "code",
      "execution_count": null,
      "id": "sporting-freeware",
      "metadata": {
        "id": "sporting-freeware",
        "outputId": "74ca5835-bb6d-41b0-bdd2-92bac82527df"
      },
      "outputs": [
        {
          "data": {
            "text/plain": [
              "array([[-4.45197296e+02, -4.47219299e+02, -4.49755127e+02, ...,\n",
              "        -4.77412781e+02, -4.74241730e+02, -4.82704987e+02],\n",
              "       [ 1.12513969e+02,  1.11970383e+02,  1.12244164e+02, ...,\n",
              "         1.12045395e+02,  1.12248581e+02,  1.05560913e+02],\n",
              "       [-1.58260956e+01, -2.30021858e+01, -3.12500191e+01, ...,\n",
              "        -9.15441895e+00, -1.03232269e+01, -7.39410734e+00],\n",
              "       ...,\n",
              "       [-7.82766485e+00, -5.03880405e+00, -4.48165369e+00, ...,\n",
              "        -1.90692782e-01,  4.34143972e+00,  1.00339069e+01],\n",
              "       [-1.91763425e+00, -8.02737713e-01, -1.20930457e+00, ...,\n",
              "        -1.23640239e-01,  2.90504694e-02,  9.22017097e-01],\n",
              "       [-3.88130605e-01,  3.09317827e-01,  6.72155714e+00, ...,\n",
              "        -2.33736587e+00, -4.25179911e+00, -2.31322765e+00]], dtype=float32)"
            ]
          },
          "execution_count": 75,
          "metadata": {},
          "output_type": "execute_result"
        }
      ],
      "source": [
        "mfccs"
      ]
    },
    {
      "cell_type": "code",
      "execution_count": null,
      "id": "liberal-journalist",
      "metadata": {
        "id": "liberal-journalist",
        "outputId": "a252a907-e5d0-4d3b-ae07-ecc986d42cf6"
      },
      "outputs": [
        {
          "data": {
            "text/html": [
              "<div>\n",
              "<style scoped>\n",
              "    .dataframe tbody tr th:only-of-type {\n",
              "        vertical-align: middle;\n",
              "    }\n",
              "\n",
              "    .dataframe tbody tr th {\n",
              "        vertical-align: top;\n",
              "    }\n",
              "\n",
              "    .dataframe thead th {\n",
              "        text-align: right;\n",
              "    }\n",
              "</style>\n",
              "<table border=\"1\" class=\"dataframe\">\n",
              "  <thead>\n",
              "    <tr style=\"text-align: right;\">\n",
              "      <th></th>\n",
              "      <th>slice_file_name</th>\n",
              "      <th>fsID</th>\n",
              "      <th>start</th>\n",
              "      <th>end</th>\n",
              "      <th>salience</th>\n",
              "      <th>fold</th>\n",
              "      <th>classID</th>\n",
              "      <th>class</th>\n",
              "    </tr>\n",
              "  </thead>\n",
              "  <tbody>\n",
              "    <tr>\n",
              "      <th>0</th>\n",
              "      <td>100032-3-0-0.wav</td>\n",
              "      <td>100032</td>\n",
              "      <td>0.0</td>\n",
              "      <td>0.317551</td>\n",
              "      <td>1</td>\n",
              "      <td>5</td>\n",
              "      <td>3</td>\n",
              "      <td>dog_bark</td>\n",
              "    </tr>\n",
              "    <tr>\n",
              "      <th>1</th>\n",
              "      <td>100263-2-0-117.wav</td>\n",
              "      <td>100263</td>\n",
              "      <td>58.5</td>\n",
              "      <td>62.500000</td>\n",
              "      <td>1</td>\n",
              "      <td>5</td>\n",
              "      <td>2</td>\n",
              "      <td>children_playing</td>\n",
              "    </tr>\n",
              "    <tr>\n",
              "      <th>2</th>\n",
              "      <td>100263-2-0-121.wav</td>\n",
              "      <td>100263</td>\n",
              "      <td>60.5</td>\n",
              "      <td>64.500000</td>\n",
              "      <td>1</td>\n",
              "      <td>5</td>\n",
              "      <td>2</td>\n",
              "      <td>children_playing</td>\n",
              "    </tr>\n",
              "    <tr>\n",
              "      <th>3</th>\n",
              "      <td>100263-2-0-126.wav</td>\n",
              "      <td>100263</td>\n",
              "      <td>63.0</td>\n",
              "      <td>67.000000</td>\n",
              "      <td>1</td>\n",
              "      <td>5</td>\n",
              "      <td>2</td>\n",
              "      <td>children_playing</td>\n",
              "    </tr>\n",
              "    <tr>\n",
              "      <th>4</th>\n",
              "      <td>100263-2-0-137.wav</td>\n",
              "      <td>100263</td>\n",
              "      <td>68.5</td>\n",
              "      <td>72.500000</td>\n",
              "      <td>1</td>\n",
              "      <td>5</td>\n",
              "      <td>2</td>\n",
              "      <td>children_playing</td>\n",
              "    </tr>\n",
              "  </tbody>\n",
              "</table>\n",
              "</div>"
            ],
            "text/plain": [
              "      slice_file_name    fsID  start        end  salience  fold  classID  \\\n",
              "0    100032-3-0-0.wav  100032    0.0   0.317551         1     5        3   \n",
              "1  100263-2-0-117.wav  100263   58.5  62.500000         1     5        2   \n",
              "2  100263-2-0-121.wav  100263   60.5  64.500000         1     5        2   \n",
              "3  100263-2-0-126.wav  100263   63.0  67.000000         1     5        2   \n",
              "4  100263-2-0-137.wav  100263   68.5  72.500000         1     5        2   \n",
              "\n",
              "              class  \n",
              "0          dog_bark  \n",
              "1  children_playing  \n",
              "2  children_playing  \n",
              "3  children_playing  \n",
              "4  children_playing  "
            ]
          },
          "execution_count": 76,
          "metadata": {},
          "output_type": "execute_result"
        }
      ],
      "source": [
        "#### Extracting MFCC's For every audio file\n",
        "import pandas as pd\n",
        "import os\n",
        "import librosa\n",
        "\n",
        "audio_dataset_path='UrbanSound8K/audio/'\n",
        "metadata=pd.read_csv('UrbanSound8K/metadata/UrbanSound8K.csv')\n",
        "metadata.head()"
      ]
    },
    {
      "cell_type": "code",
      "execution_count": null,
      "id": "chinese-calendar",
      "metadata": {
        "id": "chinese-calendar"
      },
      "outputs": [],
      "source": [
        "def features_extractor(file):\n",
        "    audio, sample_rate = librosa.load(file_name, res_type='kaiser_fast')\n",
        "    mfccs_features = librosa.feature.mfcc(y=audio, sr=sample_rate, n_mfcc=40)\n",
        "    mfccs_scaled_features = np.mean(mfccs_features.T,axis=0)\n",
        "\n",
        "    return mfccs_scaled_features\n"
      ]
    },
    {
      "cell_type": "code",
      "execution_count": null,
      "id": "nuclear-sponsorship",
      "metadata": {
        "id": "nuclear-sponsorship",
        "outputId": "f111f0d1-7386-4e4f-e959-5fad0a9a8ec6"
      },
      "outputs": [
        {
          "name": "stderr",
          "output_type": "stream",
          "text": [
            "3554it [02:08, 27.26it/s]C:\\Users\\win10\\anaconda3\\envs\\tensorflow\\lib\\site-packages\\librosa\\core\\spectrum.py:222: UserWarning: n_fft=2048 is too small for input signal of length=1323\n",
            "  warnings.warn(\n",
            "8323it [04:54, 38.45it/s]C:\\Users\\win10\\anaconda3\\envs\\tensorflow\\lib\\site-packages\\librosa\\core\\spectrum.py:222: UserWarning: n_fft=2048 is too small for input signal of length=1103\n",
            "  warnings.warn(\n",
            "C:\\Users\\win10\\anaconda3\\envs\\tensorflow\\lib\\site-packages\\librosa\\core\\spectrum.py:222: UserWarning: n_fft=2048 is too small for input signal of length=1523\n",
            "  warnings.warn(\n",
            "8732it [05:08, 28.33it/s]\n"
          ]
        }
      ],
      "source": [
        "import numpy as np\n",
        "from tqdm import tqdm\n",
        "### Now we iterate through every audio file and extract features\n",
        "### using Mel-Frequency Cepstral Coefficients\n",
        "extracted_features=[]\n",
        "for index_num,row in tqdm(metadata.iterrows()):\n",
        "    file_name = os.path.join(os.path.abspath(audio_dataset_path),'fold'+str(row[\"fold\"])+'/',str(row[\"slice_file_name\"]))\n",
        "    final_class_labels=row[\"class\"]\n",
        "    data=features_extractor(file_name)\n",
        "    extracted_features.append([data,final_class_labels])"
      ]
    },
    {
      "cell_type": "code",
      "execution_count": null,
      "id": "acoustic-wagner",
      "metadata": {
        "id": "acoustic-wagner",
        "outputId": "fafed7bb-1d86-475e-895c-8676890de31a"
      },
      "outputs": [
        {
          "data": {
            "text/html": [
              "<div>\n",
              "<style scoped>\n",
              "    .dataframe tbody tr th:only-of-type {\n",
              "        vertical-align: middle;\n",
              "    }\n",
              "\n",
              "    .dataframe tbody tr th {\n",
              "        vertical-align: top;\n",
              "    }\n",
              "\n",
              "    .dataframe thead th {\n",
              "        text-align: right;\n",
              "    }\n",
              "</style>\n",
              "<table border=\"1\" class=\"dataframe\">\n",
              "  <thead>\n",
              "    <tr style=\"text-align: right;\">\n",
              "      <th></th>\n",
              "      <th>feature</th>\n",
              "      <th>class</th>\n",
              "    </tr>\n",
              "  </thead>\n",
              "  <tbody>\n",
              "    <tr>\n",
              "      <th>0</th>\n",
              "      <td>[-215.79301, 71.66612, -131.81377, -52.091335,...</td>\n",
              "      <td>dog_bark</td>\n",
              "    </tr>\n",
              "    <tr>\n",
              "      <th>1</th>\n",
              "      <td>[-424.68677, 110.56227, -54.148235, 62.01074, ...</td>\n",
              "      <td>children_playing</td>\n",
              "    </tr>\n",
              "    <tr>\n",
              "      <th>2</th>\n",
              "      <td>[-459.56467, 122.800354, -47.92471, 53.265697,...</td>\n",
              "      <td>children_playing</td>\n",
              "    </tr>\n",
              "    <tr>\n",
              "      <th>3</th>\n",
              "      <td>[-414.55377, 102.896904, -36.66495, 54.18041, ...</td>\n",
              "      <td>children_playing</td>\n",
              "    </tr>\n",
              "    <tr>\n",
              "      <th>4</th>\n",
              "      <td>[-447.397, 115.0954, -53.809113, 61.60859, 1.6...</td>\n",
              "      <td>children_playing</td>\n",
              "    </tr>\n",
              "  </tbody>\n",
              "</table>\n",
              "</div>"
            ],
            "text/plain": [
              "                                             feature             class\n",
              "0  [-215.79301, 71.66612, -131.81377, -52.091335,...          dog_bark\n",
              "1  [-424.68677, 110.56227, -54.148235, 62.01074, ...  children_playing\n",
              "2  [-459.56467, 122.800354, -47.92471, 53.265697,...  children_playing\n",
              "3  [-414.55377, 102.896904, -36.66495, 54.18041, ...  children_playing\n",
              "4  [-447.397, 115.0954, -53.809113, 61.60859, 1.6...  children_playing"
            ]
          },
          "execution_count": 142,
          "metadata": {},
          "output_type": "execute_result"
        }
      ],
      "source": [
        "### converting extracted_features to Pandas dataframe\n",
        "extracted_features_df=pd.DataFrame(extracted_features,columns=['feature','class'])\n",
        "extracted_features_df.head()"
      ]
    },
    {
      "cell_type": "code",
      "execution_count": null,
      "id": "characteristic-sudan",
      "metadata": {
        "id": "characteristic-sudan"
      },
      "outputs": [],
      "source": [
        "### Split the dataset into independent and dependent dataset\n",
        "X=np.array(extracted_features_df['feature'].tolist())\n",
        "y=np.array(extracted_features_df['class'].tolist())"
      ]
    },
    {
      "cell_type": "code",
      "execution_count": null,
      "id": "friendly-placement",
      "metadata": {
        "id": "friendly-placement",
        "outputId": "289ad31f-1733-4ecb-9129-f1d697543f1b"
      },
      "outputs": [
        {
          "data": {
            "text/plain": [
              "(8732, 40)"
            ]
          },
          "execution_count": 207,
          "metadata": {},
          "output_type": "execute_result"
        }
      ],
      "source": [
        "X.shape"
      ]
    },
    {
      "cell_type": "code",
      "execution_count": null,
      "id": "japanese-cheese",
      "metadata": {
        "id": "japanese-cheese",
        "outputId": "7df5a330-5c94-4f77-e535-75e4e0c16804"
      },
      "outputs": [
        {
          "data": {
            "text/plain": [
              "array(['dog_bark', 'children_playing', 'children_playing', ...,\n",
              "       'car_horn', 'car_horn', 'car_horn'], dtype='<U16')"
            ]
          },
          "execution_count": 208,
          "metadata": {},
          "output_type": "execute_result"
        }
      ],
      "source": [
        "y"
      ]
    },
    {
      "cell_type": "code",
      "execution_count": null,
      "id": "wired-church",
      "metadata": {
        "id": "wired-church"
      },
      "outputs": [],
      "source": [
        "### Label Encoding\n",
        "###y=np.array(pd.get_dummies(y))\n",
        "### Label Encoder\n",
        "from tensorflow.keras.utils import to_categorical\n",
        "from sklearn.preprocessing import LabelEncoder\n",
        "labelencoder=LabelEncoder()\n",
        "y=to_categorical(labelencoder.fit_transform(y))"
      ]
    },
    {
      "cell_type": "code",
      "execution_count": null,
      "id": "sitting-anniversary",
      "metadata": {
        "id": "sitting-anniversary",
        "outputId": "6fa082e4-100f-48c6-ca5c-7c308c6487ae"
      },
      "outputs": [
        {
          "data": {
            "text/plain": [
              "array([[0., 0., 0., ..., 0., 0., 0.],\n",
              "       [0., 0., 1., ..., 0., 0., 0.],\n",
              "       [0., 0., 1., ..., 0., 0., 0.],\n",
              "       ...,\n",
              "       [0., 1., 0., ..., 0., 0., 0.],\n",
              "       [0., 1., 0., ..., 0., 0., 0.],\n",
              "       [0., 1., 0., ..., 0., 0., 0.]], dtype=float32)"
            ]
          },
          "execution_count": 211,
          "metadata": {},
          "output_type": "execute_result"
        }
      ],
      "source": [
        "y"
      ]
    },
    {
      "cell_type": "code",
      "execution_count": null,
      "id": "documentary-priority",
      "metadata": {
        "id": "documentary-priority"
      },
      "outputs": [],
      "source": [
        "### Train Test Split\n",
        "from sklearn.model_selection import train_test_split\n",
        "X_train,X_test,y_train,y_test=train_test_split(X,y,test_size=0.2,random_state=0)"
      ]
    },
    {
      "cell_type": "code",
      "execution_count": null,
      "id": "analyzed-payday",
      "metadata": {
        "id": "analyzed-payday",
        "outputId": "212dcb7a-9bd4-4c54-9787-381c39a51b4a"
      },
      "outputs": [
        {
          "data": {
            "text/plain": [
              "array([[[-1.3183614e+02,  1.1397464e+02, -2.3956861e+01, ...,\n",
              "          3.3314774e+00, -1.4786109e+00,  2.8736601e+00]],\n",
              "\n",
              "       [[-1.4074220e+01,  9.1916939e+01, -8.6787214e+00, ...,\n",
              "         -3.3844023e+00, -5.2119045e+00, -1.5936136e+00]],\n",
              "\n",
              "       [[-4.9532028e+01,  1.5521857e-01, -2.0369110e+01, ...,\n",
              "          2.0491767e+00, -8.0537486e-01,  2.7793026e+00]],\n",
              "\n",
              "       ...,\n",
              "\n",
              "       [[-4.2699332e+02,  9.2890656e+01,  3.0233388e+00, ...,\n",
              "          8.6335975e-01,  6.4766806e-01,  7.8490508e-01]],\n",
              "\n",
              "       [[-1.4607024e+02,  1.3709459e+02, -3.4298344e+01, ...,\n",
              "          1.3777871e+00, -1.9530845e+00, -8.9652127e-01]],\n",
              "\n",
              "       [[-4.2167450e+02,  2.1169032e+02,  2.6820304e+00, ...,\n",
              "         -5.1484952e+00, -3.6400862e+00, -1.3321606e+00]]], dtype=float32)"
            ]
          },
          "execution_count": 126,
          "metadata": {},
          "output_type": "execute_result"
        }
      ],
      "source": [
        "X_train"
      ]
    },
    {
      "cell_type": "code",
      "execution_count": null,
      "id": "female-study",
      "metadata": {
        "id": "female-study",
        "outputId": "6513d261-b55c-4828-c04c-0b34d8b2c36d"
      },
      "outputs": [
        {
          "data": {
            "text/plain": [
              "array([[0., 0., 0., ..., 0., 0., 0.],\n",
              "       [0., 0., 1., ..., 0., 0., 0.],\n",
              "       [0., 0., 1., ..., 0., 0., 0.],\n",
              "       ...,\n",
              "       [0., 1., 0., ..., 0., 0., 0.],\n",
              "       [0., 1., 0., ..., 0., 0., 0.],\n",
              "       [0., 1., 0., ..., 0., 0., 0.]], dtype=float32)"
            ]
          },
          "execution_count": 127,
          "metadata": {},
          "output_type": "execute_result"
        }
      ],
      "source": [
        "y"
      ]
    },
    {
      "cell_type": "code",
      "execution_count": null,
      "id": "flexible-lithuania",
      "metadata": {
        "id": "flexible-lithuania",
        "outputId": "3be7da2f-7139-401c-876f-f50959a4b2ce"
      },
      "outputs": [
        {
          "data": {
            "text/plain": [
              "(6985, 1, 40)"
            ]
          },
          "execution_count": 128,
          "metadata": {},
          "output_type": "execute_result"
        }
      ],
      "source": [
        "X_train.shape"
      ]
    },
    {
      "cell_type": "code",
      "execution_count": null,
      "id": "instrumental-equity",
      "metadata": {
        "id": "instrumental-equity",
        "outputId": "2c85f580-6df2-4156-d4f5-f50670c3570a"
      },
      "outputs": [
        {
          "data": {
            "text/plain": [
              "(1747, 1, 40)"
            ]
          },
          "execution_count": 129,
          "metadata": {},
          "output_type": "execute_result"
        }
      ],
      "source": [
        "X_test.shape"
      ]
    },
    {
      "cell_type": "code",
      "execution_count": null,
      "id": "chemical-vermont",
      "metadata": {
        "id": "chemical-vermont",
        "outputId": "328e81b1-796e-4536-a8a8-b79e536b709b"
      },
      "outputs": [
        {
          "data": {
            "text/plain": [
              "(6985, 10)"
            ]
          },
          "execution_count": 130,
          "metadata": {},
          "output_type": "execute_result"
        }
      ],
      "source": [
        "y_train.shape"
      ]
    },
    {
      "cell_type": "code",
      "execution_count": null,
      "id": "governing-natural",
      "metadata": {
        "id": "governing-natural",
        "outputId": "5110c350-efcf-4e86-d03b-247ee2fe9758"
      },
      "outputs": [
        {
          "data": {
            "text/plain": [
              "(1747, 10)"
            ]
          },
          "execution_count": 131,
          "metadata": {},
          "output_type": "execute_result"
        }
      ],
      "source": [
        "y_test.shape"
      ]
    },
    {
      "cell_type": "markdown",
      "id": "express-vessel",
      "metadata": {
        "id": "express-vessel"
      },
      "source": [
        "### Model Creation"
      ]
    },
    {
      "cell_type": "code",
      "execution_count": null,
      "id": "loose-portugal",
      "metadata": {
        "id": "loose-portugal",
        "outputId": "455bc026-db57-487d-e04f-93e972db0b21"
      },
      "outputs": [
        {
          "name": "stdout",
          "output_type": "stream",
          "text": [
            "2.3.1\n"
          ]
        }
      ],
      "source": [
        "import tensorflow as tf\n",
        "print(tf.__version__)"
      ]
    },
    {
      "cell_type": "code",
      "execution_count": null,
      "id": "indonesian-accessory",
      "metadata": {
        "id": "indonesian-accessory"
      },
      "outputs": [],
      "source": [
        "from tensorflow.keras.models import Sequential\n",
        "from tensorflow.keras.layers import Dense,Dropout,Activation,Flatten\n",
        "from tensorflow.keras.optimizers import Adam\n",
        "from sklearn import metrics"
      ]
    },
    {
      "cell_type": "code",
      "execution_count": null,
      "id": "valuable-substitute",
      "metadata": {
        "id": "valuable-substitute"
      },
      "outputs": [],
      "source": [
        "### No of classes\n",
        "num_labels=y.shape[1]"
      ]
    },
    {
      "cell_type": "code",
      "execution_count": null,
      "id": "choice-contract",
      "metadata": {
        "id": "choice-contract"
      },
      "outputs": [],
      "source": []
    },
    {
      "cell_type": "code",
      "execution_count": null,
      "id": "found-outside",
      "metadata": {
        "id": "found-outside"
      },
      "outputs": [],
      "source": [
        "model=Sequential()\n",
        "###first layer\n",
        "model.add(Dense(100,input_shape=(40,)))\n",
        "model.add(Activation('relu'))\n",
        "model.add(Dropout(0.5))\n",
        "###second layer\n",
        "model.add(Dense(200))\n",
        "model.add(Activation('relu'))\n",
        "model.add(Dropout(0.5))\n",
        "###third layer\n",
        "model.add(Dense(100))\n",
        "model.add(Activation('relu'))\n",
        "model.add(Dropout(0.5))\n",
        "\n",
        "###final layer\n",
        "model.add(Dense(num_labels))\n",
        "model.add(Activation('softmax'))"
      ]
    },
    {
      "cell_type": "code",
      "execution_count": null,
      "id": "described-anaheim",
      "metadata": {
        "id": "described-anaheim",
        "outputId": "74e26f3e-cf50-4659-abf3-a4bce363668c"
      },
      "outputs": [
        {
          "name": "stdout",
          "output_type": "stream",
          "text": [
            "Model: \"sequential_6\"\n",
            "_________________________________________________________________\n",
            "Layer (type)                 Output Shape              Param #   \n",
            "=================================================================\n",
            "dense_8 (Dense)              (None, 100)               4100      \n",
            "_________________________________________________________________\n",
            "activation_8 (Activation)    (None, 100)               0         \n",
            "_________________________________________________________________\n",
            "dropout_10 (Dropout)         (None, 100)               0         \n",
            "_________________________________________________________________\n",
            "dense_9 (Dense)              (None, 200)               20200     \n",
            "_________________________________________________________________\n",
            "activation_9 (Activation)    (None, 200)               0         \n",
            "_________________________________________________________________\n",
            "dropout_11 (Dropout)         (None, 200)               0         \n",
            "_________________________________________________________________\n",
            "dense_10 (Dense)             (None, 100)               20100     \n",
            "_________________________________________________________________\n",
            "activation_10 (Activation)   (None, 100)               0         \n",
            "_________________________________________________________________\n",
            "dropout_12 (Dropout)         (None, 100)               0         \n",
            "_________________________________________________________________\n",
            "dense_11 (Dense)             (None, 10)                1010      \n",
            "_________________________________________________________________\n",
            "activation_11 (Activation)   (None, 10)                0         \n",
            "=================================================================\n",
            "Total params: 45,410\n",
            "Trainable params: 45,410\n",
            "Non-trainable params: 0\n",
            "_________________________________________________________________\n"
          ]
        }
      ],
      "source": [
        "model.summary()"
      ]
    },
    {
      "cell_type": "code",
      "execution_count": null,
      "id": "radical-finding",
      "metadata": {
        "id": "radical-finding"
      },
      "outputs": [],
      "source": [
        "model.compile(loss='categorical_crossentropy',metrics=['accuracy'],optimizer='adam')"
      ]
    },
    {
      "cell_type": "code",
      "execution_count": null,
      "id": "alpha-adapter",
      "metadata": {
        "id": "alpha-adapter",
        "outputId": "ed597bde-9df3-4512-dd50-7c6f48ca73b5"
      },
      "outputs": [
        {
          "name": "stdout",
          "output_type": "stream",
          "text": [
            "Epoch 1/100\n",
            "195/219 [=========================>....] - ETA: 0s - loss: 0.8612 - accuracy: 0.7104\n",
            "Epoch 00001: val_loss improved from inf to 0.65317, saving model to saved_models\\audio_classification.hdf5\n",
            "219/219 [==============================] - 1s 3ms/step - loss: 0.8681 - accuracy: 0.7111 - val_loss: 0.6532 - val_accuracy: 0.7985\n",
            "Epoch 2/100\n",
            "204/219 [==========================>...] - ETA: 0s - loss: 0.8822 - accuracy: 0.7145\n",
            "Epoch 00002: val_loss did not improve from 0.65317\n",
            "219/219 [==============================] - 1s 2ms/step - loss: 0.8762 - accuracy: 0.7151 - val_loss: 0.6665 - val_accuracy: 0.7951\n",
            "Epoch 3/100\n",
            "200/219 [==========================>...] - ETA: 0s - loss: 0.8449 - accuracy: 0.7205\n",
            "Epoch 00003: val_loss did not improve from 0.65317\n",
            "219/219 [==============================] - 1s 2ms/step - loss: 0.8508 - accuracy: 0.7187 - val_loss: 0.6554 - val_accuracy: 0.7939\n",
            "Epoch 4/100\n",
            "217/219 [============================>.] - ETA: 0s - loss: 0.8584 - accuracy: 0.7154\n",
            "Epoch 00004: val_loss did not improve from 0.65317\n",
            "219/219 [==============================] - 1s 3ms/step - loss: 0.8576 - accuracy: 0.7158 - val_loss: 0.6656 - val_accuracy: 0.7939\n",
            "Epoch 5/100\n",
            "199/219 [==========================>...] - ETA: 0s - loss: 0.8835 - accuracy: 0.7112\n",
            "Epoch 00005: val_loss improved from 0.65317 to 0.64595, saving model to saved_models\\audio_classification.hdf5\n",
            "219/219 [==============================] - 1s 2ms/step - loss: 0.8786 - accuracy: 0.7110 - val_loss: 0.6459 - val_accuracy: 0.8025\n",
            "Epoch 6/100\n",
            "200/219 [==========================>...] - ETA: 0s - loss: 0.8576 - accuracy: 0.7125\n",
            "Epoch 00006: val_loss did not improve from 0.64595\n",
            "219/219 [==============================] - 1s 2ms/step - loss: 0.8576 - accuracy: 0.7137 - val_loss: 0.6783 - val_accuracy: 0.7825\n",
            "Epoch 7/100\n",
            "209/219 [===========================>..] - ETA: 0s - loss: 0.8470 - accuracy: 0.7134\n",
            "Epoch 00007: val_loss did not improve from 0.64595\n",
            "219/219 [==============================] - 1s 2ms/step - loss: 0.8490 - accuracy: 0.7145 - val_loss: 0.6630 - val_accuracy: 0.7974\n",
            "Epoch 8/100\n",
            "197/219 [=========================>....] - ETA: 0s - loss: 0.8379 - accuracy: 0.7216\n",
            "Epoch 00008: val_loss did not improve from 0.64595\n",
            "219/219 [==============================] - 1s 2ms/step - loss: 0.8455 - accuracy: 0.7188 - val_loss: 0.6497 - val_accuracy: 0.7956\n",
            "Epoch 9/100\n",
            "198/219 [==========================>...] - ETA: 0s - loss: 0.8697 - accuracy: 0.7154\n",
            "Epoch 00009: val_loss did not improve from 0.64595\n",
            "219/219 [==============================] - 1s 2ms/step - loss: 0.8667 - accuracy: 0.7187 - val_loss: 0.6869 - val_accuracy: 0.7808\n",
            "Epoch 10/100\n",
            "201/219 [==========================>...] - ETA: 0s - loss: 0.8670 - accuracy: 0.7161\n",
            "Epoch 00010: val_loss did not improve from 0.64595\n",
            "219/219 [==============================] - 1s 2ms/step - loss: 0.8746 - accuracy: 0.7142 - val_loss: 0.6925 - val_accuracy: 0.7859\n",
            "Epoch 11/100\n",
            "203/219 [==========================>...] - ETA: 0s - loss: 0.8604 - accuracy: 0.7127\n",
            "Epoch 00011: val_loss did not improve from 0.64595\n",
            "219/219 [==============================] - 1s 2ms/step - loss: 0.8606 - accuracy: 0.7131 - val_loss: 0.6616 - val_accuracy: 0.7945\n",
            "Epoch 12/100\n",
            "202/219 [==========================>...] - ETA: 0s - loss: 0.8768 - accuracy: 0.7092\n",
            "Epoch 00012: val_loss did not improve from 0.64595\n",
            "219/219 [==============================] - 1s 2ms/step - loss: 0.8711 - accuracy: 0.7118 - val_loss: 0.6737 - val_accuracy: 0.7859\n",
            "Epoch 13/100\n",
            "212/219 [============================>.] - ETA: 0s - loss: 0.8552 - accuracy: 0.7165\n",
            "Epoch 00013: val_loss did not improve from 0.64595\n",
            "219/219 [==============================] - 1s 3ms/step - loss: 0.8502 - accuracy: 0.7180 - val_loss: 0.6771 - val_accuracy: 0.7865\n",
            "Epoch 14/100\n",
            "202/219 [==========================>...] - ETA: 0s - loss: 0.8634 - accuracy: 0.7157 ETA: 0s - loss: 0.9098 - \n",
            "Epoch 00014: val_loss did not improve from 0.64595\n",
            "219/219 [==============================] - 1s 3ms/step - loss: 0.8627 - accuracy: 0.7161 - val_loss: 0.6584 - val_accuracy: 0.7997\n",
            "Epoch 15/100\n",
            "217/219 [============================>.] - ETA: 0s - loss: 0.8316 - accuracy: 0.7288\n",
            "Epoch 00015: val_loss did not improve from 0.64595\n",
            "219/219 [==============================] - 1s 3ms/step - loss: 0.8324 - accuracy: 0.7283 - val_loss: 0.6641 - val_accuracy: 0.7985\n",
            "Epoch 16/100\n",
            "218/219 [============================>.] - ETA: 0s - loss: 0.8472 - accuracy: 0.7130\n",
            "Epoch 00016: val_loss did not improve from 0.64595\n",
            "219/219 [==============================] - 1s 3ms/step - loss: 0.8475 - accuracy: 0.7130 - val_loss: 0.6584 - val_accuracy: 0.7956\n",
            "Epoch 17/100\n",
            "206/219 [===========================>..] - ETA: 0s - loss: 0.8656 - accuracy: 0.7113\n",
            "Epoch 00017: val_loss did not improve from 0.64595\n",
            "219/219 [==============================] - 1s 3ms/step - loss: 0.8611 - accuracy: 0.7128 - val_loss: 0.6759 - val_accuracy: 0.7899\n",
            "Epoch 18/100\n",
            "210/219 [===========================>..] - ETA: 0s - loss: 0.8740 - accuracy: 0.7103\n",
            "Epoch 00018: val_loss did not improve from 0.64595\n",
            "219/219 [==============================] - 1s 3ms/step - loss: 0.8751 - accuracy: 0.7101 - val_loss: 0.6775 - val_accuracy: 0.7808\n",
            "Epoch 19/100\n",
            "201/219 [==========================>...] - ETA: 0s - loss: 0.8594 - accuracy: 0.7096\n",
            "Epoch 00019: val_loss did not improve from 0.64595\n",
            "219/219 [==============================] - 1s 3ms/step - loss: 0.8608 - accuracy: 0.7095 - val_loss: 0.6550 - val_accuracy: 0.7979\n",
            "Epoch 20/100\n",
            "208/219 [===========================>..] - ETA: 0s - loss: 0.8610 - accuracy: 0.7163\n",
            "Epoch 00020: val_loss did not improve from 0.64595\n",
            "219/219 [==============================] - 1s 3ms/step - loss: 0.8633 - accuracy: 0.7157 - val_loss: 0.6733 - val_accuracy: 0.7831\n",
            "Epoch 21/100\n",
            "205/219 [===========================>..] - ETA: 0s - loss: 0.8408 - accuracy: 0.7166\n",
            "Epoch 00021: val_loss improved from 0.64595 to 0.63746, saving model to saved_models\\audio_classification.hdf5\n",
            "219/219 [==============================] - 1s 3ms/step - loss: 0.8351 - accuracy: 0.7185 - val_loss: 0.6375 - val_accuracy: 0.7997\n",
            "Epoch 22/100\n",
            "205/219 [===========================>..] - ETA: 0s - loss: 0.8541 - accuracy: 0.7160\n",
            "Epoch 00022: val_loss did not improve from 0.63746\n",
            "219/219 [==============================] - 1s 3ms/step - loss: 0.8561 - accuracy: 0.7177 - val_loss: 0.6606 - val_accuracy: 0.7928\n",
            "Epoch 23/100\n",
            "203/219 [==========================>...] - ETA: 0s - loss: 0.8313 - accuracy: 0.7211\n",
            "Epoch 00023: val_loss did not improve from 0.63746\n",
            "219/219 [==============================] - 1s 3ms/step - loss: 0.8325 - accuracy: 0.7207 - val_loss: 0.6728 - val_accuracy: 0.7876\n",
            "Epoch 24/100\n",
            "208/219 [===========================>..] - ETA: 0s - loss: 0.8581 - accuracy: 0.7127\n",
            "Epoch 00024: val_loss did not improve from 0.63746\n",
            "219/219 [==============================] - 1s 3ms/step - loss: 0.8604 - accuracy: 0.7122 - val_loss: 0.6573 - val_accuracy: 0.7939\n",
            "Epoch 25/100\n",
            "203/219 [==========================>...] - ETA: 0s - loss: 0.8498 - accuracy: 0.7171\n",
            "Epoch 00025: val_loss did not improve from 0.63746\n",
            "219/219 [==============================] - 1s 3ms/step - loss: 0.8547 - accuracy: 0.7161 - val_loss: 0.6677 - val_accuracy: 0.7945\n",
            "Epoch 26/100\n",
            "204/219 [==========================>...] - ETA: 0s - loss: 0.8525 - accuracy: 0.7137\n",
            "Epoch 00026: val_loss did not improve from 0.63746\n",
            "219/219 [==============================] - 1s 3ms/step - loss: 0.8574 - accuracy: 0.7121 - val_loss: 0.6515 - val_accuracy: 0.7968\n",
            "Epoch 27/100\n",
            "193/219 [=========================>....] - ETA: 0s - loss: 0.8123 - accuracy: 0.7275\n",
            "Epoch 00027: val_loss did not improve from 0.63746\n",
            "219/219 [==============================] - 1s 2ms/step - loss: 0.8133 - accuracy: 0.7278 - val_loss: 0.6505 - val_accuracy: 0.7985\n",
            "Epoch 28/100\n",
            "192/219 [=========================>....] - ETA: 0s - loss: 0.8330 - accuracy: 0.7217\n",
            "Epoch 00028: val_loss did not improve from 0.63746\n",
            "219/219 [==============================] - 0s 2ms/step - loss: 0.8352 - accuracy: 0.7241 - val_loss: 0.6416 - val_accuracy: 0.7916\n",
            "Epoch 29/100\n",
            "184/219 [========================>.....] - ETA: 0s - loss: 0.8469 - accuracy: 0.7227\n",
            "Epoch 00029: val_loss did not improve from 0.63746\n",
            "219/219 [==============================] - 0s 2ms/step - loss: 0.8559 - accuracy: 0.7208 - val_loss: 0.6691 - val_accuracy: 0.7956\n"
          ]
        },
        {
          "name": "stdout",
          "output_type": "stream",
          "text": [
            "Epoch 30/100\n",
            "195/219 [=========================>....] - ETA: 0s - loss: 0.8480 - accuracy: 0.7220\n",
            "Epoch 00030: val_loss did not improve from 0.63746\n",
            "219/219 [==============================] - 0s 2ms/step - loss: 0.8494 - accuracy: 0.7205 - val_loss: 0.6511 - val_accuracy: 0.7985\n",
            "Epoch 31/100\n",
            "218/219 [============================>.] - ETA: 0s - loss: 0.8415 - accuracy: 0.7241\n",
            "Epoch 00031: val_loss did not improve from 0.63746\n",
            "219/219 [==============================] - 0s 2ms/step - loss: 0.8423 - accuracy: 0.7238 - val_loss: 0.6773 - val_accuracy: 0.7865\n",
            "Epoch 32/100\n",
            "198/219 [==========================>...] - ETA: 0s - loss: 0.8698 - accuracy: 0.7159\n",
            "Epoch 00032: val_loss did not improve from 0.63746\n",
            "219/219 [==============================] - 0s 2ms/step - loss: 0.8672 - accuracy: 0.7157 - val_loss: 0.6709 - val_accuracy: 0.8014\n",
            "Epoch 33/100\n",
            "209/219 [===========================>..] - ETA: 0s - loss: 0.8221 - accuracy: 0.7267\n",
            "Epoch 00033: val_loss did not improve from 0.63746\n",
            "219/219 [==============================] - 0s 2ms/step - loss: 0.8202 - accuracy: 0.7278 - val_loss: 0.6516 - val_accuracy: 0.7934\n",
            "Epoch 34/100\n",
            "209/219 [===========================>..] - ETA: 0s - loss: 0.8538 - accuracy: 0.7129\n",
            "Epoch 00034: val_loss did not improve from 0.63746\n",
            "219/219 [==============================] - 0s 2ms/step - loss: 0.8513 - accuracy: 0.7134 - val_loss: 0.6676 - val_accuracy: 0.7831\n",
            "Epoch 35/100\n",
            "207/219 [===========================>..] - ETA: 0s - loss: 0.8232 - accuracy: 0.7261\n",
            "Epoch 00035: val_loss did not improve from 0.63746\n",
            "219/219 [==============================] - 0s 2ms/step - loss: 0.8249 - accuracy: 0.7241 - val_loss: 0.6485 - val_accuracy: 0.7934\n",
            "Epoch 36/100\n",
            "201/219 [==========================>...] - ETA: 0s - loss: 0.8576 - accuracy: 0.7256\n",
            "Epoch 00036: val_loss did not improve from 0.63746\n",
            "219/219 [==============================] - 0s 2ms/step - loss: 0.8573 - accuracy: 0.7256 - val_loss: 0.6669 - val_accuracy: 0.7991\n",
            "Epoch 37/100\n",
            "205/219 [===========================>..] - ETA: 0s - loss: 0.8619 - accuracy: 0.7159\n",
            "Epoch 00037: val_loss did not improve from 0.63746\n",
            "219/219 [==============================] - 0s 2ms/step - loss: 0.8619 - accuracy: 0.7152 - val_loss: 0.6549 - val_accuracy: 0.7962\n",
            "Epoch 38/100\n",
            "204/219 [==========================>...] - ETA: 0s - loss: 0.8647 - accuracy: 0.7149\n",
            "Epoch 00038: val_loss did not improve from 0.63746\n",
            "219/219 [==============================] - 0s 2ms/step - loss: 0.8648 - accuracy: 0.7138 - val_loss: 0.6578 - val_accuracy: 0.7951\n",
            "Epoch 39/100\n",
            "203/219 [==========================>...] - ETA: 0s - loss: 0.8547 - accuracy: 0.7191\n",
            "Epoch 00039: val_loss did not improve from 0.63746\n",
            "219/219 [==============================] - 0s 2ms/step - loss: 0.8483 - accuracy: 0.7211 - val_loss: 0.6557 - val_accuracy: 0.7899\n",
            "Epoch 40/100\n",
            "206/219 [===========================>..] - ETA: 0s - loss: 0.8328 - accuracy: 0.7260\n",
            "Epoch 00040: val_loss did not improve from 0.63746\n",
            "219/219 [==============================] - 0s 2ms/step - loss: 0.8334 - accuracy: 0.7254 - val_loss: 0.6708 - val_accuracy: 0.7939\n",
            "Epoch 41/100\n",
            "205/219 [===========================>..] - ETA: 0s - loss: 0.8501 - accuracy: 0.7305\n",
            "Epoch 00041: val_loss did not improve from 0.63746\n",
            "219/219 [==============================] - 0s 2ms/step - loss: 0.8539 - accuracy: 0.7303 - val_loss: 0.6781 - val_accuracy: 0.7876\n",
            "Epoch 42/100\n",
            "203/219 [==========================>...] - ETA: 0s - loss: 0.8375 - accuracy: 0.7212\n",
            "Epoch 00042: val_loss did not improve from 0.63746\n",
            "219/219 [==============================] - 0s 2ms/step - loss: 0.8341 - accuracy: 0.7225 - val_loss: 0.6541 - val_accuracy: 0.7922\n",
            "Epoch 43/100\n",
            "203/219 [==========================>...] - ETA: 0s - loss: 0.8805 - accuracy: 0.7135\n",
            "Epoch 00043: val_loss did not improve from 0.63746\n",
            "219/219 [==============================] - 0s 2ms/step - loss: 0.8812 - accuracy: 0.7130 - val_loss: 0.6730 - val_accuracy: 0.7871\n",
            "Epoch 44/100\n",
            "203/219 [==========================>...] - ETA: 0s - loss: 0.8272 - accuracy: 0.7244\n",
            "Epoch 00044: val_loss did not improve from 0.63746\n",
            "219/219 [==============================] - 0s 2ms/step - loss: 0.8360 - accuracy: 0.7213 - val_loss: 0.6572 - val_accuracy: 0.7997\n",
            "Epoch 45/100\n",
            "203/219 [==========================>...] - ETA: 0s - loss: 0.8382 - accuracy: 0.7275\n",
            "Epoch 00045: val_loss did not improve from 0.63746\n",
            "219/219 [==============================] - 0s 2ms/step - loss: 0.8393 - accuracy: 0.7258 - val_loss: 0.6731 - val_accuracy: 0.7831\n",
            "Epoch 46/100\n",
            "204/219 [==========================>...] - ETA: 0s - loss: 0.8668 - accuracy: 0.7206\n",
            "Epoch 00046: val_loss did not improve from 0.63746\n",
            "219/219 [==============================] - 0s 2ms/step - loss: 0.8627 - accuracy: 0.7207 - val_loss: 0.6580 - val_accuracy: 0.7974\n",
            "Epoch 47/100\n",
            "203/219 [==========================>...] - ETA: 0s - loss: 0.8457 - accuracy: 0.7231\n",
            "Epoch 00047: val_loss did not improve from 0.63746\n",
            "219/219 [==============================] - 0s 2ms/step - loss: 0.8417 - accuracy: 0.7247 - val_loss: 0.6430 - val_accuracy: 0.8031\n",
            "Epoch 48/100\n",
            "203/219 [==========================>...] - ETA: 0s - loss: 0.8513 - accuracy: 0.7197\n",
            "Epoch 00048: val_loss did not improve from 0.63746\n",
            "219/219 [==============================] - 0s 2ms/step - loss: 0.8518 - accuracy: 0.7200 - val_loss: 0.6690 - val_accuracy: 0.7911\n",
            "Epoch 49/100\n",
            "202/219 [==========================>...] - ETA: 0s - loss: 0.8445 - accuracy: 0.7170\n",
            "Epoch 00049: val_loss did not improve from 0.63746\n",
            "219/219 [==============================] - 0s 2ms/step - loss: 0.8441 - accuracy: 0.7155 - val_loss: 0.6702 - val_accuracy: 0.7962\n",
            "Epoch 50/100\n",
            "205/219 [===========================>..] - ETA: 0s - loss: 0.8285 - accuracy: 0.7238\n",
            "Epoch 00050: val_loss did not improve from 0.63746\n",
            "219/219 [==============================] - 0s 2ms/step - loss: 0.8301 - accuracy: 0.7238 - val_loss: 0.6537 - val_accuracy: 0.8002\n",
            "Epoch 51/100\n",
            "195/219 [=========================>....] - ETA: 0s - loss: 0.8354 - accuracy: 0.7216\n",
            "Epoch 00051: val_loss did not improve from 0.63746\n",
            "219/219 [==============================] - 0s 2ms/step - loss: 0.8293 - accuracy: 0.7237 - val_loss: 0.6630 - val_accuracy: 0.7853\n",
            "Epoch 52/100\n",
            "198/219 [==========================>...] - ETA: 0s - loss: 0.8501 - accuracy: 0.7169\n",
            "Epoch 00052: val_loss did not improve from 0.63746\n",
            "219/219 [==============================] - 0s 2ms/step - loss: 0.8453 - accuracy: 0.7173 - val_loss: 0.6826 - val_accuracy: 0.7991\n",
            "Epoch 53/100\n",
            "202/219 [==========================>...] - ETA: 0s - loss: 0.8609 - accuracy: 0.7203\n",
            "Epoch 00053: val_loss did not improve from 0.63746\n",
            "219/219 [==============================] - 0s 2ms/step - loss: 0.8599 - accuracy: 0.7198 - val_loss: 0.6525 - val_accuracy: 0.8037\n",
            "Epoch 54/100\n",
            "203/219 [==========================>...] - ETA: 0s - loss: 0.8557 - accuracy: 0.7197\n",
            "Epoch 00054: val_loss did not improve from 0.63746\n",
            "219/219 [==============================] - 0s 2ms/step - loss: 0.8534 - accuracy: 0.7203 - val_loss: 0.6805 - val_accuracy: 0.7888\n",
            "Epoch 55/100\n",
            "202/219 [==========================>...] - ETA: 0s - loss: 0.8395 - accuracy: 0.7189\n",
            "Epoch 00055: val_loss did not improve from 0.63746\n",
            "219/219 [==============================] - 0s 2ms/step - loss: 0.8408 - accuracy: 0.7181 - val_loss: 0.6568 - val_accuracy: 0.7899\n",
            "Epoch 56/100\n",
            "205/219 [===========================>..] - ETA: 0s - loss: 0.8526 - accuracy: 0.7155\n",
            "Epoch 00056: val_loss did not improve from 0.63746\n",
            "219/219 [==============================] - 0s 2ms/step - loss: 0.8530 - accuracy: 0.7152 - val_loss: 0.6866 - val_accuracy: 0.7802\n",
            "Epoch 57/100\n",
            "195/219 [=========================>....] - ETA: 0s - loss: 0.8334 - accuracy: 0.7266\n",
            "Epoch 00057: val_loss did not improve from 0.63746\n",
            "219/219 [==============================] - 0s 2ms/step - loss: 0.8468 - accuracy: 0.7234 - val_loss: 0.6768 - val_accuracy: 0.7934\n",
            "Epoch 58/100\n",
            "204/219 [==========================>...] - ETA: 0s - loss: 0.8520 - accuracy: 0.7108\n",
            "Epoch 00058: val_loss did not improve from 0.63746\n",
            "219/219 [==============================] - 0s 2ms/step - loss: 0.8527 - accuracy: 0.7114 - val_loss: 0.6717 - val_accuracy: 0.7796\n",
            "Epoch 59/100\n"
          ]
        },
        {
          "name": "stdout",
          "output_type": "stream",
          "text": [
            "202/219 [==========================>...] - ETA: 0s - loss: 0.8256 - accuracy: 0.7200\n",
            "Epoch 00059: val_loss did not improve from 0.63746\n",
            "219/219 [==============================] - 0s 2ms/step - loss: 0.8240 - accuracy: 0.7215 - val_loss: 0.6396 - val_accuracy: 0.7979\n",
            "Epoch 60/100\n",
            "202/219 [==========================>...] - ETA: 0s - loss: 0.8444 - accuracy: 0.7186\n",
            "Epoch 00060: val_loss did not improve from 0.63746\n",
            "219/219 [==============================] - 0s 2ms/step - loss: 0.8435 - accuracy: 0.7185 - val_loss: 0.6671 - val_accuracy: 0.7853\n",
            "Epoch 61/100\n",
            "198/219 [==========================>...] - ETA: 0s - loss: 0.8411 - accuracy: 0.7208\n",
            "Epoch 00061: val_loss did not improve from 0.63746\n",
            "219/219 [==============================] - 0s 2ms/step - loss: 0.8385 - accuracy: 0.7214 - val_loss: 0.6507 - val_accuracy: 0.7956\n",
            "Epoch 62/100\n",
            "201/219 [==========================>...] - ETA: 0s - loss: 0.8107 - accuracy: 0.7253\n",
            "Epoch 00062: val_loss did not improve from 0.63746\n",
            "219/219 [==============================] - 0s 2ms/step - loss: 0.8144 - accuracy: 0.7234 - val_loss: 0.6449 - val_accuracy: 0.7934\n",
            "Epoch 63/100\n",
            "201/219 [==========================>...] - ETA: 0s - loss: 0.8268 - accuracy: 0.7236\n",
            "Epoch 00063: val_loss did not improve from 0.63746\n",
            "219/219 [==============================] - 0s 2ms/step - loss: 0.8257 - accuracy: 0.7223 - val_loss: 0.6439 - val_accuracy: 0.7928\n",
            "Epoch 64/100\n",
            "203/219 [==========================>...] - ETA: 0s - loss: 0.8484 - accuracy: 0.7226\n",
            "Epoch 00064: val_loss did not improve from 0.63746\n",
            "219/219 [==============================] - 0s 2ms/step - loss: 0.8507 - accuracy: 0.7221 - val_loss: 0.6560 - val_accuracy: 0.7865\n",
            "Epoch 65/100\n",
            "200/219 [==========================>...] - ETA: 0s - loss: 0.8181 - accuracy: 0.7273\n",
            "Epoch 00065: val_loss did not improve from 0.63746\n",
            "219/219 [==============================] - 0s 2ms/step - loss: 0.8217 - accuracy: 0.7253 - val_loss: 0.6398 - val_accuracy: 0.8042\n",
            "Epoch 66/100\n",
            "203/219 [==========================>...] - ETA: 0s - loss: 0.8513 - accuracy: 0.7163\n",
            "Epoch 00066: val_loss did not improve from 0.63746\n",
            "219/219 [==============================] - 0s 2ms/step - loss: 0.8534 - accuracy: 0.7165 - val_loss: 0.6594 - val_accuracy: 0.7928\n",
            "Epoch 67/100\n",
            "201/219 [==========================>...] - ETA: 0s - loss: 0.8443 - accuracy: 0.7215\n",
            "Epoch 00067: val_loss did not improve from 0.63746\n",
            "219/219 [==============================] - 0s 2ms/step - loss: 0.8491 - accuracy: 0.7223 - val_loss: 0.6499 - val_accuracy: 0.7979\n",
            "Epoch 68/100\n",
            "204/219 [==========================>...] - ETA: 0s - loss: 0.8429 - accuracy: 0.7221\n",
            "Epoch 00068: val_loss did not improve from 0.63746\n",
            "219/219 [==============================] - 0s 2ms/step - loss: 0.8416 - accuracy: 0.7220 - val_loss: 0.6479 - val_accuracy: 0.8014\n",
            "Epoch 69/100\n",
            "201/219 [==========================>...] - ETA: 0s - loss: 0.8248 - accuracy: 0.7282\n",
            "Epoch 00069: val_loss did not improve from 0.63746\n",
            "219/219 [==============================] - 0s 2ms/step - loss: 0.8232 - accuracy: 0.7284 - val_loss: 0.6405 - val_accuracy: 0.7951\n",
            "Epoch 70/100\n",
            "204/219 [==========================>...] - ETA: 0s - loss: 0.8146 - accuracy: 0.7319\n",
            "Epoch 00070: val_loss did not improve from 0.63746\n",
            "219/219 [==============================] - 0s 2ms/step - loss: 0.8194 - accuracy: 0.7307 - val_loss: 0.6506 - val_accuracy: 0.7899\n",
            "Epoch 71/100\n",
            "206/219 [===========================>..] - ETA: 0s - loss: 0.8531 - accuracy: 0.7163\n",
            "Epoch 00071: val_loss did not improve from 0.63746\n",
            "219/219 [==============================] - 0s 2ms/step - loss: 0.8517 - accuracy: 0.7173 - val_loss: 0.6490 - val_accuracy: 0.7825\n",
            "Epoch 72/100\n",
            "202/219 [==========================>...] - ETA: 0s - loss: 0.8405 - accuracy: 0.7280\n",
            "Epoch 00072: val_loss did not improve from 0.63746\n",
            "219/219 [==============================] - 0s 2ms/step - loss: 0.8348 - accuracy: 0.7283 - val_loss: 0.6536 - val_accuracy: 0.7911\n",
            "Epoch 73/100\n",
            "206/219 [===========================>..] - ETA: 0s - loss: 0.8441 - accuracy: 0.7191\n",
            "Epoch 00073: val_loss did not improve from 0.63746\n",
            "219/219 [==============================] - 0s 2ms/step - loss: 0.8466 - accuracy: 0.7181 - val_loss: 0.6672 - val_accuracy: 0.7939\n",
            "Epoch 74/100\n",
            "194/219 [=========================>....] - ETA: 0s - loss: 0.8330 - accuracy: 0.7202\n",
            "Epoch 00074: val_loss improved from 0.63746 to 0.63103, saving model to saved_models\\audio_classification.hdf5\n",
            "219/219 [==============================] - 0s 2ms/step - loss: 0.8300 - accuracy: 0.7210 - val_loss: 0.6310 - val_accuracy: 0.8014\n",
            "Epoch 75/100\n",
            "203/219 [==========================>...] - ETA: 0s - loss: 0.8187 - accuracy: 0.7284\n",
            "Epoch 00075: val_loss did not improve from 0.63103\n",
            "219/219 [==============================] - 0s 2ms/step - loss: 0.8256 - accuracy: 0.7280 - val_loss: 0.6533 - val_accuracy: 0.7956\n",
            "Epoch 76/100\n",
            "203/219 [==========================>...] - ETA: 0s - loss: 0.8171 - accuracy: 0.7238\n",
            "Epoch 00076: val_loss did not improve from 0.63103\n",
            "219/219 [==============================] - 0s 2ms/step - loss: 0.8164 - accuracy: 0.7251 - val_loss: 0.6613 - val_accuracy: 0.7865\n",
            "Epoch 77/100\n",
            "205/219 [===========================>..] - ETA: 0s - loss: 0.8135 - accuracy: 0.7255\n",
            "Epoch 00077: val_loss did not improve from 0.63103\n",
            "219/219 [==============================] - 0s 2ms/step - loss: 0.8131 - accuracy: 0.7268 - val_loss: 0.6385 - val_accuracy: 0.7974\n",
            "Epoch 78/100\n",
            "205/219 [===========================>..] - ETA: 0s - loss: 0.8600 - accuracy: 0.7194\n",
            "Epoch 00078: val_loss did not improve from 0.63103\n",
            "219/219 [==============================] - 0s 2ms/step - loss: 0.8575 - accuracy: 0.7204 - val_loss: 0.6542 - val_accuracy: 0.7905\n",
            "Epoch 79/100\n",
            "208/219 [===========================>..] - ETA: 0s - loss: 0.8590 - accuracy: 0.7174\n",
            "Epoch 00079: val_loss did not improve from 0.63103\n",
            "219/219 [==============================] - 0s 2ms/step - loss: 0.8559 - accuracy: 0.7193 - val_loss: 0.6639 - val_accuracy: 0.7979\n",
            "Epoch 80/100\n",
            "207/219 [===========================>..] - ETA: 0s - loss: 0.8260 - accuracy: 0.7304\n",
            "Epoch 00080: val_loss did not improve from 0.63103\n",
            "219/219 [==============================] - 0s 2ms/step - loss: 0.8238 - accuracy: 0.7306 - val_loss: 0.6398 - val_accuracy: 0.8037\n",
            "Epoch 81/100\n",
            "202/219 [==========================>...] - ETA: 0s - loss: 0.8149 - accuracy: 0.7277\n",
            "Epoch 00081: val_loss did not improve from 0.63103\n",
            "219/219 [==============================] - 0s 2ms/step - loss: 0.8144 - accuracy: 0.7276 - val_loss: 0.6517 - val_accuracy: 0.7939\n",
            "Epoch 82/100\n",
            "204/219 [==========================>...] - ETA: 0s - loss: 0.8272 - accuracy: 0.7276\n",
            "Epoch 00082: val_loss did not improve from 0.63103\n",
            "219/219 [==============================] - 0s 2ms/step - loss: 0.8228 - accuracy: 0.7301 - val_loss: 0.6603 - val_accuracy: 0.8002\n",
            "Epoch 83/100\n",
            "205/219 [===========================>..] - ETA: 0s - loss: 0.8486 - accuracy: 0.7232\n",
            "Epoch 00083: val_loss did not improve from 0.63103\n",
            "219/219 [==============================] - 0s 2ms/step - loss: 0.8469 - accuracy: 0.7237 - val_loss: 0.6476 - val_accuracy: 0.7876\n",
            "Epoch 84/100\n",
            "198/219 [==========================>...] - ETA: 0s - loss: 0.8148 - accuracy: 0.7301\n",
            "Epoch 00084: val_loss did not improve from 0.63103\n",
            "219/219 [==============================] - 0s 2ms/step - loss: 0.8140 - accuracy: 0.7294 - val_loss: 0.6360 - val_accuracy: 0.8054\n",
            "Epoch 85/100\n",
            "217/219 [============================>.] - ETA: 0s - loss: 0.8342 - accuracy: 0.7229\n",
            "Epoch 00085: val_loss did not improve from 0.63103\n",
            "219/219 [==============================] - 0s 2ms/step - loss: 0.8345 - accuracy: 0.7228 - val_loss: 0.6597 - val_accuracy: 0.7911\n",
            "Epoch 86/100\n",
            "189/219 [========================>.....] - ETA: 0s - loss: 0.8554 - accuracy: 0.7174\n",
            "Epoch 00086: val_loss did not improve from 0.63103\n",
            "219/219 [==============================] - 0s 2ms/step - loss: 0.8502 - accuracy: 0.7208 - val_loss: 0.6347 - val_accuracy: 0.7951\n",
            "Epoch 87/100\n",
            "205/219 [===========================>..] - ETA: 0s - loss: 0.8410 - accuracy: 0.7239\n",
            "Epoch 00087: val_loss did not improve from 0.63103\n",
            "219/219 [==============================] - 0s 2ms/step - loss: 0.8375 - accuracy: 0.7238 - val_loss: 0.6399 - val_accuracy: 0.7968\n",
            "Epoch 88/100\n"
          ]
        },
        {
          "name": "stdout",
          "output_type": "stream",
          "text": [
            "206/219 [===========================>..] - ETA: 0s - loss: 0.8426 - accuracy: 0.7221\n",
            "Epoch 00088: val_loss did not improve from 0.63103\n",
            "219/219 [==============================] - 0s 2ms/step - loss: 0.8396 - accuracy: 0.7231 - val_loss: 0.6475 - val_accuracy: 0.7939\n",
            "Epoch 89/100\n",
            "201/219 [==========================>...] - ETA: 0s - loss: 0.8247 - accuracy: 0.7284\n",
            "Epoch 00089: val_loss did not improve from 0.63103\n",
            "219/219 [==============================] - 0s 2ms/step - loss: 0.8270 - accuracy: 0.7248 - val_loss: 0.6569 - val_accuracy: 0.7934\n",
            "Epoch 90/100\n",
            "202/219 [==========================>...] - ETA: 0s - loss: 0.8377 - accuracy: 0.7232\n",
            "Epoch 00090: val_loss did not improve from 0.63103\n",
            "219/219 [==============================] - 0s 2ms/step - loss: 0.8452 - accuracy: 0.7213 - val_loss: 0.6453 - val_accuracy: 0.7985\n",
            "Epoch 91/100\n",
            "203/219 [==========================>...] - ETA: 0s - loss: 0.8140 - accuracy: 0.7306\n",
            "Epoch 00091: val_loss did not improve from 0.63103\n",
            "219/219 [==============================] - 0s 2ms/step - loss: 0.8089 - accuracy: 0.7321 - val_loss: 0.6563 - val_accuracy: 0.7882\n",
            "Epoch 92/100\n",
            "212/219 [============================>.] - ETA: 0s - loss: 0.8402 - accuracy: 0.7214\n",
            "Epoch 00092: val_loss did not improve from 0.63103\n",
            "219/219 [==============================] - 0s 2ms/step - loss: 0.8373 - accuracy: 0.7218 - val_loss: 0.6331 - val_accuracy: 0.7956\n",
            "Epoch 93/100\n",
            "191/219 [=========================>....] - ETA: 0s - loss: 0.8389 - accuracy: 0.7214\n",
            "Epoch 00093: val_loss did not improve from 0.63103\n",
            "219/219 [==============================] - 0s 2ms/step - loss: 0.8300 - accuracy: 0.7237 - val_loss: 0.6370 - val_accuracy: 0.8042\n",
            "Epoch 94/100\n",
            "219/219 [==============================] - ETA: 0s - loss: 0.7966 - accuracy: 0.7344\n",
            "Epoch 00094: val_loss did not improve from 0.63103\n",
            "219/219 [==============================] - 0s 2ms/step - loss: 0.7966 - accuracy: 0.7344 - val_loss: 0.6461 - val_accuracy: 0.7894\n",
            "Epoch 95/100\n",
            "193/219 [=========================>....] - ETA: 0s - loss: 0.8113 - accuracy: 0.7268\n",
            "Epoch 00095: val_loss did not improve from 0.63103\n",
            "219/219 [==============================] - 0s 2ms/step - loss: 0.8056 - accuracy: 0.7287 - val_loss: 0.6393 - val_accuracy: 0.7991\n",
            "Epoch 96/100\n",
            "187/219 [========================>.....] - ETA: 0s - loss: 0.8098 - accuracy: 0.7296\n",
            "Epoch 00096: val_loss did not improve from 0.63103\n",
            "219/219 [==============================] - 0s 2ms/step - loss: 0.8195 - accuracy: 0.7281 - val_loss: 0.6522 - val_accuracy: 0.7916\n",
            "Epoch 97/100\n",
            "192/219 [=========================>....] - ETA: 0s - loss: 0.8216 - accuracy: 0.7297\n",
            "Epoch 00097: val_loss did not improve from 0.63103\n",
            "219/219 [==============================] - 0s 2ms/step - loss: 0.8288 - accuracy: 0.7288 - val_loss: 0.6529 - val_accuracy: 0.7985\n",
            "Epoch 98/100\n",
            "191/219 [=========================>....] - ETA: 0s - loss: 0.8121 - accuracy: 0.7281\n",
            "Epoch 00098: val_loss did not improve from 0.63103\n",
            "219/219 [==============================] - 0s 2ms/step - loss: 0.8153 - accuracy: 0.7273 - val_loss: 0.6450 - val_accuracy: 0.7934\n",
            "Epoch 99/100\n",
            "191/219 [=========================>....] - ETA: 0s - loss: 0.8151 - accuracy: 0.7307 ETA: 0s - loss: 0.8208 - accura\n",
            "Epoch 00099: val_loss did not improve from 0.63103\n",
            "219/219 [==============================] - 0s 2ms/step - loss: 0.8212 - accuracy: 0.7274 - val_loss: 0.6649 - val_accuracy: 0.7997\n",
            "Epoch 100/100\n",
            "202/219 [==========================>...] - ETA: 0s - loss: 0.8116 - accuracy: 0.7293\n",
            "Epoch 00100: val_loss did not improve from 0.63103\n",
            "219/219 [==============================] - 0s 2ms/step - loss: 0.8071 - accuracy: 0.7303 - val_loss: 0.6363 - val_accuracy: 0.8002\n",
            "Training completed in time:  0:00:45.200242\n"
          ]
        }
      ],
      "source": [
        "## Trianing my model\n",
        "from tensorflow.keras.callbacks import ModelCheckpoint\n",
        "from datetime import datetime\n",
        "\n",
        "num_epochs = 100\n",
        "num_batch_size = 32\n",
        "\n",
        "checkpointer = ModelCheckpoint(filepath='saved_models/audio_classification.hdf5',\n",
        "                               verbose=1, save_best_only=True)\n",
        "start = datetime.now()\n",
        "\n",
        "model.fit(X_train, y_train, batch_size=num_batch_size, epochs=num_epochs, validation_data=(X_test, y_test), callbacks=[checkpointer], verbose=1)\n",
        "\n",
        "\n",
        "duration = datetime.now() - start\n",
        "print(\"Training completed in time: \", duration)"
      ]
    },
    {
      "cell_type": "code",
      "execution_count": null,
      "id": "virgin-butter",
      "metadata": {
        "id": "virgin-butter",
        "outputId": "dad82369-9509-437f-950a-33c825d416fc"
      },
      "outputs": [
        {
          "name": "stdout",
          "output_type": "stream",
          "text": [
            "0.8002289533615112\n"
          ]
        }
      ],
      "source": [
        "test_accuracy=model.evaluate(X_test,y_test,verbose=0)\n",
        "print(test_accuracy[1])"
      ]
    },
    {
      "cell_type": "code",
      "execution_count": null,
      "id": "laughing-genesis",
      "metadata": {
        "id": "laughing-genesis",
        "outputId": "f0e0842b-9132-430f-ae1b-e8bab7fa9a2f"
      },
      "outputs": [
        {
          "data": {
            "text/plain": [
              "(1, 40)"
            ]
          },
          "execution_count": 156,
          "metadata": {},
          "output_type": "execute_result"
        }
      ],
      "source": [
        "prediction_feature.shape"
      ]
    },
    {
      "cell_type": "code",
      "execution_count": null,
      "id": "strange-driving",
      "metadata": {
        "id": "strange-driving",
        "outputId": "dac6e169-9d66-4660-cc50-28ff697f7b05"
      },
      "outputs": [
        {
          "data": {
            "text/plain": [
              "array([-466.1843    ,    1.5388278 ,  -34.397358  ,   35.715336  ,\n",
              "        -15.166929  ,  -18.850813  ,   -0.7415805 ,  -15.99989   ,\n",
              "        -21.354332  ,    7.6506834 ,  -29.031452  ,  -19.142824  ,\n",
              "         -2.6798913 ,   -8.466884  ,  -14.7660475 ,   -7.004778  ,\n",
              "         -7.103754  ,    8.887754  ,   14.911873  ,   21.47102   ,\n",
              "         21.336624  ,    0.9169518 ,  -18.795404  ,   -5.001721  ,\n",
              "         -0.70152664,    2.91399   ,   -6.7105994 ,  -16.638536  ,\n",
              "         -9.821647  ,   12.8619585 ,    0.6552978 ,  -23.953394  ,\n",
              "        -15.200551  ,    9.21079   ,   10.419799  ,   -0.57916117,\n",
              "         -1.2440346 ,   17.722294  ,   13.837573  ,   -5.164349  ],\n",
              "      dtype=float32)"
            ]
          },
          "execution_count": 190,
          "metadata": {},
          "output_type": "execute_result"
        }
      ],
      "source": [
        "X_test[1]"
      ]
    },
    {
      "cell_type": "code",
      "execution_count": null,
      "id": "intensive-conservative",
      "metadata": {
        "id": "intensive-conservative",
        "outputId": "67e5ec84-e851-4c0a-9b26-b3da72cc0ef7"
      },
      "outputs": [
        {
          "data": {
            "text/plain": [
              "array([5, 3, 4, ..., 1, 2, 2], dtype=int64)"
            ]
          },
          "execution_count": 185,
          "metadata": {},
          "output_type": "execute_result"
        }
      ],
      "source": [
        "model.predict_classes(X_test)"
      ]
    },
    {
      "cell_type": "markdown",
      "id": "advanced-booth",
      "metadata": {
        "id": "advanced-booth"
      },
      "source": [
        "### Testing Some Test Audio Data\n",
        "\n",
        "Steps\n",
        "- Preprocess the new audio data\n",
        "- predict the classes\n",
        "- Invere transform your Predicted Label"
      ]
    },
    {
      "cell_type": "code",
      "execution_count": null,
      "id": "chubby-newsletter",
      "metadata": {
        "id": "chubby-newsletter",
        "outputId": "28727b44-4006-471d-815c-11e7ab877c32",
        "scrolled": true
      },
      "outputs": [
        {
          "name": "stdout",
          "output_type": "stream",
          "text": [
            "[-146.34639      52.85859       6.0391283    46.972637      0.48288426\n",
            "   31.756617     -6.395756     36.949165     -2.2981966     9.0149975\n",
            "   -8.056831     24.668858    -14.41076       7.5845594    -3.089655\n",
            "   17.423319    -10.068965      9.606158     -1.4731672     7.745292\n",
            "   -1.9399884    -1.5998945     3.373213      1.6671567    -4.9514785\n",
            "    4.8195934    -6.1473813     3.8730834   -10.502274      1.3417107\n",
            "   -5.616546      4.815169     -6.152183      2.0756485    -1.8508396\n",
            "   -0.45990178   -4.9980536     2.528911     -0.7446382    -6.4779253 ]\n",
            "[[-146.34639      52.85859       6.0391283    46.972637      0.48288426\n",
            "    31.756617     -6.395756     36.949165     -2.2981966     9.0149975\n",
            "    -8.056831     24.668858    -14.41076       7.5845594    -3.089655\n",
            "    17.423319    -10.068965      9.606158     -1.4731672     7.745292\n",
            "    -1.9399884    -1.5998945     3.373213      1.6671567    -4.9514785\n",
            "     4.8195934    -6.1473813     3.8730834   -10.502274      1.3417107\n",
            "    -5.616546      4.815169     -6.152183      2.0756485    -1.8508396\n",
            "    -0.45990178   -4.9980536     2.528911     -0.7446382    -6.4779253 ]]\n",
            "(1, 40)\n",
            "[4]\n"
          ]
        },
        {
          "data": {
            "text/plain": [
              "array(['drilling'], dtype='<U16')"
            ]
          },
          "execution_count": 215,
          "metadata": {},
          "output_type": "execute_result"
        }
      ],
      "source": [
        "filename=\"UrbanSound8K/drilling_1.wav\"\n",
        "audio, sample_rate = librosa.load(filename, res_type='kaiser_fast')\n",
        "mfccs_features = librosa.feature.mfcc(y=audio, sr=sample_rate, n_mfcc=40)\n",
        "mfccs_scaled_features = np.mean(mfccs_features.T,axis=0)\n",
        "\n",
        "print(mfccs_scaled_features)\n",
        "mfccs_scaled_features=mfccs_scaled_features.reshape(1,-1)\n",
        "print(mfccs_scaled_features)\n",
        "print(mfccs_scaled_features.shape)\n",
        "predicted_label=model.predict_classes(mfccs_scaled_features)\n",
        "print(predicted_label)\n",
        "prediction_class = labelencoder.inverse_transform(predicted_label)\n",
        "prediction_class"
      ]
    },
    {
      "cell_type": "code",
      "execution_count": null,
      "id": "inclusive-theorem",
      "metadata": {
        "id": "inclusive-theorem"
      },
      "outputs": [],
      "source": []
    }
  ],
  "metadata": {
    "colab": {
      "provenance": []
    },
    "kernelspec": {
      "display_name": "Python 3",
      "language": "python",
      "name": "python3"
    },
    "language_info": {
      "codemirror_mode": {
        "name": "ipython",
        "version": 3
      },
      "file_extension": ".py",
      "mimetype": "text/x-python",
      "name": "python",
      "nbconvert_exporter": "python",
      "pygments_lexer": "ipython3",
      "version": "3.8.5"
    }
  },
  "nbformat": 4,
  "nbformat_minor": 5
}
